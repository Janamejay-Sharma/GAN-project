{
 "cells": [
  {
   "attachments": {},
   "cell_type": "markdown",
   "metadata": {},
   "source": [
    "## Introduction\n",
    "Next steps: Conditional GAN to generate specific types of images rather than random ones like this GAN does."
   ]
  },
  {
   "attachments": {},
   "cell_type": "markdown",
   "metadata": {},
   "source": [
    "## Import Libraries & Dependencies"
   ]
  },
  {
   "attachments": {},
   "cell_type": "markdown",
   "metadata": {},
   "source": [
    "Let's begin by installing the following dependencies."
   ]
  },
  {
   "cell_type": "code",
   "execution_count": 2,
   "metadata": {},
   "outputs": [],
   "source": [
    "# %pip install tensorflow tensorflow-datasets matplotlib ipywidgets"
   ]
  },
  {
   "cell_type": "code",
   "execution_count": 3,
   "metadata": {},
   "outputs": [],
   "source": [
    "# %pip install tensorflow_datasets"
   ]
  },
  {
   "cell_type": "code",
   "execution_count": 33,
   "metadata": {},
   "outputs": [],
   "source": [
    "import tensorflow_datasets as tfds\n",
    "from matplotlib import pyplot as plt\n",
    "import numpy as np"
   ]
  },
  {
   "attachments": {},
   "cell_type": "markdown",
   "metadata": {},
   "source": [
    "Use the `tensorflow_datasets` API to create a pipeline to the **training** split of the image dataset. Note that we're not *downloading* the entire dataset."
   ]
  },
  {
   "cell_type": "code",
   "execution_count": 5,
   "metadata": {},
   "outputs": [],
   "source": [
    "ds = tfds.load(\"fashion_mnist\", split=\"train\")"
   ]
  },
  {
   "attachments": {},
   "cell_type": "markdown",
   "metadata": {},
   "source": [
    "## Visualizing The Data"
   ]
  },
  {
   "attachments": {},
   "cell_type": "markdown",
   "metadata": {},
   "source": [
    "Create an **iterator** to return images from the dataset."
   ]
  },
  {
   "cell_type": "code",
   "execution_count": 6,
   "metadata": {},
   "outputs": [],
   "source": [
    "data_iterator = ds.as_numpy_iterator()"
   ]
  },
  {
   "attachments": {},
   "cell_type": "markdown",
   "metadata": {},
   "source": [
    "Visualize some images returned from the dataset by the iterator using `matplotlib`."
   ]
  },
  {
   "cell_type": "code",
   "execution_count": 7,
   "metadata": {},
   "outputs": [
    {
     "data": {
      "text/plain": [
       "(28, 28, 1)"
      ]
     },
     "execution_count": 7,
     "metadata": {},
     "output_type": "execute_result"
    }
   ],
   "source": [
    "# Check image data structure shape\n",
    "data_iterator.next()[\"image\"].shape"
   ]
  },
  {
   "cell_type": "code",
   "execution_count": 8,
   "metadata": {},
   "outputs": [
    {
     "data": {
      "image/png": "[encoded data removed]",
      "text/plain": [
       "<Figure size 1500x1500 with 4 Axes>"
      ]
     },
     "metadata": {},
     "output_type": "display_data"
    }
   ],
   "source": [
    "num_of_images = 4\n",
    "\n",
    "(figure, subplots) =  plt.subplots(ncols=num_of_images, figsize=(15,15))\n",
    "\n",
    "for subplot in subplots:\n",
    "    # Get next image and label\n",
    "    sample = data_iterator.next()\n",
    "    \n",
    "    # squeeze() changes image shape from (28,28,1) to (28,28)\n",
    "    subplot.imshow(np.squeeze(sample[\"image\"]))\n",
    "    \n",
    "    # Show each image's label above its visualization\n",
    "    subplot.title.set_text(sample[\"label\"])"
   ]
  },
  {
   "attachments": {},
   "cell_type": "markdown",
   "metadata": {},
   "source": [
    "## Building The Dataset"
   ]
  },
  {
   "attachments": {},
   "cell_type": "markdown",
   "metadata": {},
   "source": [
    "**Normalize** or apply **min-max scaling** to the images. Each attribute’s values are shifted and rescaled so that they end up between 0 and 1. Here, dividing each R, G, and B value by 255.\n",
    "\n",
    "This is important because ML algorithms don’t perform well when the input numerical attributes have very different scales.\n"
   ]
  },
  {
   "cell_type": "code",
   "execution_count": 9,
   "metadata": {},
   "outputs": [],
   "source": [
    "def scale_images(data):\n",
    "    image = data[\"image\"]\n",
    "    return image / 255\n",
    "\n",
    "ds = ds.map(scale_images)"
   ]
  },
  {
   "attachments": {},
   "cell_type": "markdown",
   "metadata": {},
   "source": [
    "**Cache** the data set to local storage to improve data loading performance.\n",
    "\n",
    "Caching the dataset can be useful when working with large datasets that do not fit entirely in memory or when you want to avoid repeatedly loading data from a remote source, such as the internet.\n",
    "\n",
    "By caching the dataset, subsequent accesses to the dataset will be faster since the data is already stored locally."
   ]
  },
  {
   "cell_type": "code",
   "execution_count": 10,
   "metadata": {},
   "outputs": [],
   "source": [
    "ds = ds.cache()"
   ]
  },
  {
   "attachments": {},
   "cell_type": "markdown",
   "metadata": {},
   "source": [
    "**Shuffle** the dataset."
   ]
  },
  {
   "cell_type": "code",
   "execution_count": 11,
   "metadata": {},
   "outputs": [],
   "source": [
    "ds = ds.shuffle(60000) # 60000 is the shuffle batch size"
   ]
  },
  {
   "attachments": {},
   "cell_type": "markdown",
   "metadata": {},
   "source": [
    "**Batch** the images into samples. "
   ]
  },
  {
   "cell_type": "code",
   "execution_count": 12,
   "metadata": {},
   "outputs": [],
   "source": [
    "images_per_sample = 128\n",
    "ds = ds.batch(images_per_sample)"
   ]
  },
  {
   "attachments": {},
   "cell_type": "markdown",
   "metadata": {},
   "source": [
    "`prefetch()` is used to improve data loading performance by overlapping data loading and model execution. It prefetches a specified number of elements (usually batches) from the dataset."
   ]
  },
  {
   "cell_type": "code",
   "execution_count": 13,
   "metadata": {},
   "outputs": [],
   "source": [
    "ds = ds.prefetch(64)"
   ]
  },
  {
   "attachments": {},
   "cell_type": "markdown",
   "metadata": {},
   "source": [
    "Recreate the data iterator after these operations."
   ]
  },
  {
   "cell_type": "code",
   "execution_count": 14,
   "metadata": {},
   "outputs": [
    {
     "data": {
      "text/plain": [
       "(128, 28, 28, 1)"
      ]
     },
     "execution_count": 14,
     "metadata": {},
     "output_type": "execute_result"
    }
   ],
   "source": [
    "data_iterator = ds.as_numpy_iterator()\n",
    "data_iterator.next().shape # Examine the new shape of next()'s return value"
   ]
  },
  {
   "attachments": {},
   "cell_type": "markdown",
   "metadata": {},
   "source": [
    "## Building The Neural Networks"
   ]
  },
  {
   "attachments": {},
   "cell_type": "markdown",
   "metadata": {},
   "source": [
    "Import the model-building components."
   ]
  },
  {
   "cell_type": "code",
   "execution_count": 15,
   "metadata": {},
   "outputs": [],
   "source": [
    "from tensorflow.keras.models import Sequential  # One input, one output, flowing in one direction\n",
    "from tensorflow.keras.layers import Conv2D, Dense, Flatten, Reshape, Dropout, LeakyReLU, UpSampling2D"
   ]
  },
  {
   "attachments": {},
   "cell_type": "markdown",
   "metadata": {},
   "source": [
    "Note about the **LeakyReLU** activation function:\n",
    "\n",
    "[<img src=\"images/1_siH_yCvYJ9rqWSUYeDBiRA.png\" width=\"500\"/>](images/1_siH_yCvYJ9rqWSUYeDBiRA.png)"
   ]
  },
  {
   "attachments": {},
   "cell_type": "markdown",
   "metadata": {},
   "source": [
    "### Build The Generator"
   ]
  },
  {
   "attachments": {},
   "cell_type": "markdown",
   "metadata": {},
   "source": [
    "**Input Layer:** A dense, fully-connected layer. The generator is passed 128 random values (`input_dim`). These values determine what kind of image the generator will produce. The dimension 7\\*7\\*128 indicates a 7x7 array with 128 channels. \n",
    "\n",
    "**Activation:** The Leaky ReLU activation function provides the model **non-linearity**. 0.2 is the **output parameter** (0.01 in the image above).\n",
    "\n",
    "**Reshape:** Takes in random values and reshapes it to 7x7x128.\n",
    "\n",
    "**Upsampling Blocks:** Preserve the 128 channels of the input, specify a kernel size of 5x5, and set padding to **\"same\"** to prevent cropping.\n",
    "\n",
    "`UpSampling2D()`**:** Duplicates the input dimensions (from 7x7x128 to 14x14x128)"
   ]
  },
  {
   "cell_type": "code",
   "execution_count": 16,
   "metadata": {},
   "outputs": [],
   "source": [
    "def build_generator() -> Sequential:\n",
    "    model = Sequential()\n",
    "\n",
    "    model.add(Dense(7*7*128, input_dim=128))\n",
    "    model.add(LeakyReLU(0.2))\n",
    "    model.add(Reshape((7,7,128)))\n",
    "\n",
    "    # Upsampling block 1\n",
    "    model.add(UpSampling2D())\n",
    "    model.add(Conv2D(128, 5, padding=\"same\"))\n",
    "    model.add(LeakyReLU(0.2))\n",
    "\n",
    "    # Upsampling block 2\n",
    "    model.add(UpSampling2D())\n",
    "    model.add(Conv2D(128, 5, padding=\"same\"))\n",
    "    model.add(LeakyReLU(0.2))\n",
    "\n",
    "\n",
    "    # Convolutional block 1\n",
    "    model.add(Conv2D(128, 4, padding=\"same\"))\n",
    "    model.add(LeakyReLU(0.2))\n",
    "\n",
    "    # Convolutional block 2\n",
    "    model.add(Conv2D(128, 4, padding=\"same\"))\n",
    "    model.add(LeakyReLU(0.2))\n",
    "\n",
    "    # Final convolutional layer to reduce to a single channel\n",
    "    model.add(Conv2D(1, 4, padding=\"same\", activation=\"sigmoid\"))\n",
    "\n",
    "\n",
    "    return model"
   ]
  },
  {
   "attachments": {},
   "cell_type": "markdown",
   "metadata": {},
   "source": [
    "Test the model."
   ]
  },
  {
   "cell_type": "code",
   "execution_count": 17,
   "metadata": {},
   "outputs": [
    {
     "name": "stdout",
     "output_type": "stream",
     "text": [
      "Model: \"sequential\"\n",
      "_________________________________________________________________\n",
      " Layer (type)                Output Shape              Param #   \n",
      "=================================================================\n",
      " dense (Dense)               (None, 6272)              809088    \n",
      "                                                                 \n",
      " leaky_re_lu (LeakyReLU)     (None, 6272)              0         \n",
      "                                                                 \n",
      " reshape (Reshape)           (None, 7, 7, 128)         0         \n",
      "                                                                 \n",
      " up_sampling2d (UpSampling2D  (None, 14, 14, 128)      0         \n",
      " )                                                               \n",
      "                                                                 \n",
      " conv2d (Conv2D)             (None, 14, 14, 128)       409728    \n",
      "                                                                 \n",
      " leaky_re_lu_1 (LeakyReLU)   (None, 14, 14, 128)       0         \n",
      "                                                                 \n",
      " up_sampling2d_1 (UpSampling  (None, 28, 28, 128)      0         \n",
      " 2D)                                                             \n",
      "                                                                 \n",
      " conv2d_1 (Conv2D)           (None, 28, 28, 128)       409728    \n",
      "                                                                 \n",
      " leaky_re_lu_2 (LeakyReLU)   (None, 28, 28, 128)       0         \n",
      "                                                                 \n",
      " conv2d_2 (Conv2D)           (None, 28, 28, 128)       262272    \n",
      "                                                                 \n",
      " leaky_re_lu_3 (LeakyReLU)   (None, 28, 28, 128)       0         \n",
      "                                                                 \n",
      " conv2d_3 (Conv2D)           (None, 28, 28, 128)       262272    \n",
      "                                                                 \n",
      " leaky_re_lu_4 (LeakyReLU)   (None, 28, 28, 128)       0         \n",
      "                                                                 \n",
      " conv2d_4 (Conv2D)           (None, 28, 28, 1)         2049      \n",
      "                                                                 \n",
      "=================================================================\n",
      "Total params: 2,155,137\n",
      "Trainable params: 2,155,137\n",
      "Non-trainable params: 0\n",
      "_________________________________________________________________\n"
     ]
    }
   ],
   "source": [
    "generator = build_generator()\n",
    "generator.summary()"
   ]
  },
  {
   "cell_type": "code",
   "execution_count": 18,
   "metadata": {},
   "outputs": [
    {
     "name": "stdout",
     "output_type": "stream",
     "text": [
      "1/1 [==============================] - 2s 2s/step\n"
     ]
    },
    {
     "data": {
      "image/png": "[encoded data removed]",
      "text/plain": [
       "<Figure size 1500x1500 with 4 Axes>"
      ]
     },
     "metadata": {},
     "output_type": "display_data"
    }
   ],
   "source": [
    "num_of_images = 4\n",
    "\n",
    "\n",
    "img = generator.predict(np.random.randn(num_of_images,128,1))\n",
    "\n",
    "(figure, subplots) =  plt.subplots(ncols=num_of_images, figsize=(15,15))\n",
    "\n",
    "for i, img in enumerate(img):    \n",
    "    # squeeze() changes image shape to (28,28)\n",
    "    subplots[i].imshow(np.squeeze(img))"
   ]
  },
  {
   "attachments": {},
   "cell_type": "markdown",
   "metadata": {},
   "source": [
    "### Build The Discriminator"
   ]
  },
  {
   "cell_type": "code",
   "execution_count": 19,
   "metadata": {},
   "outputs": [],
   "source": [
    "def build_discriminator():\n",
    "    model = Sequential()\n",
    "\n",
    "    # Convolutional Block 1\n",
    "    model.add(Conv2D(32, 5, input_shape=(28,28,1))) # 32 filters of shape 5x5, input shape the same as generator's output\n",
    "    model.add(LeakyReLU(0.2))\n",
    "    model.add(Dropout(0.4))\n",
    "\n",
    "    # Convolutional Block 2\n",
    "    model.add(Conv2D(64, 5)) # 64 filters.Not the input layer, so no need to specify input shape\n",
    "    model.add(LeakyReLU(0.2))\n",
    "    model.add(Dropout(0.4))\n",
    "\n",
    "    # Convolutional Block 3\n",
    "    model.add(Conv2D(128, 5))\n",
    "    model.add(LeakyReLU(0.2))\n",
    "    model.add(Dropout(0.4))\n",
    "\n",
    "    # Convolutional Block 4\n",
    "    model.add(Conv2D(256, 5))\n",
    "    model.add(LeakyReLU(0.2))\n",
    "    model.add(Dropout(0.4))\n",
    "\n",
    "    # Flatten\n",
    "    model.add(Flatten())\n",
    "\n",
    "    # Output Layer\n",
    "    model.add(Dense(1, activation=\"sigmoid\")) # Outputs a single value, 1 representing a false image, 0 true\n",
    "\n",
    "    return model"
   ]
  },
  {
   "cell_type": "code",
   "execution_count": 20,
   "metadata": {},
   "outputs": [
    {
     "name": "stdout",
     "output_type": "stream",
     "text": [
      "Model: \"sequential_1\"\n",
      "_________________________________________________________________\n",
      " Layer (type)                Output Shape              Param #   \n",
      "=================================================================\n",
      " conv2d_5 (Conv2D)           (None, 24, 24, 32)        832       \n",
      "                                                                 \n",
      " leaky_re_lu_5 (LeakyReLU)   (None, 24, 24, 32)        0         \n",
      "                                                                 \n",
      " dropout (Dropout)           (None, 24, 24, 32)        0         \n",
      "                                                                 \n",
      " conv2d_6 (Conv2D)           (None, 20, 20, 64)        51264     \n",
      "                                                                 \n",
      " leaky_re_lu_6 (LeakyReLU)   (None, 20, 20, 64)        0         \n",
      "                                                                 \n",
      " dropout_1 (Dropout)         (None, 20, 20, 64)        0         \n",
      "                                                                 \n",
      " conv2d_7 (Conv2D)           (None, 16, 16, 128)       204928    \n",
      "                                                                 \n",
      " leaky_re_lu_7 (LeakyReLU)   (None, 16, 16, 128)       0         \n",
      "                                                                 \n",
      " dropout_2 (Dropout)         (None, 16, 16, 128)       0         \n",
      "                                                                 \n",
      " conv2d_8 (Conv2D)           (None, 12, 12, 256)       819456    \n",
      "                                                                 \n",
      " leaky_re_lu_8 (LeakyReLU)   (None, 12, 12, 256)       0         \n",
      "                                                                 \n",
      " dropout_3 (Dropout)         (None, 12, 12, 256)       0         \n",
      "                                                                 \n",
      " flatten (Flatten)           (None, 36864)             0         \n",
      "                                                                 \n",
      " dense_1 (Dense)             (None, 1)                 36865     \n",
      "                                                                 \n",
      "=================================================================\n",
      "Total params: 1,113,345\n",
      "Trainable params: 1,113,345\n",
      "Non-trainable params: 0\n",
      "_________________________________________________________________\n"
     ]
    }
   ],
   "source": [
    "discriminator = build_discriminator()\n",
    "discriminator.summary()"
   ]
  },
  {
   "attachments": {},
   "cell_type": "markdown",
   "metadata": {},
   "source": [
    "Now let's test the discrimnator. The neural network a expects a batch of images, rather a than a single image."
   ]
  },
  {
   "cell_type": "code",
   "execution_count": 21,
   "metadata": {},
   "outputs": [
    {
     "name": "stdout",
     "output_type": "stream",
     "text": [
      "1/1 [==============================] - 0s 16ms/step\n"
     ]
    },
    {
     "data": {
      "text/plain": [
       "(4, 28, 28, 1)"
      ]
     },
     "execution_count": 21,
     "metadata": {},
     "output_type": "execute_result"
    }
   ],
   "source": [
    "img = generator.predict(np.random.randn(4,128,1))\n",
    "img.shape"
   ]
  },
  {
   "cell_type": "code",
   "execution_count": 22,
   "metadata": {},
   "outputs": [
    {
     "name": "stdout",
     "output_type": "stream",
     "text": [
      "1/1 [==============================] - 0s 134ms/step\n"
     ]
    },
    {
     "data": {
      "text/plain": [
       "array([[0.49515074],\n",
       "       [0.49513125],\n",
       "       [0.49507114],\n",
       "       [0.4950328 ]], dtype=float32)"
      ]
     },
     "execution_count": 22,
     "metadata": {},
     "output_type": "execute_result"
    }
   ],
   "source": [
    "discriminator.predict(img)"
   ]
  },
  {
   "attachments": {},
   "cell_type": "markdown",
   "metadata": {},
   "source": [
    "If we wanted to test a single image (say `img[1]`) with the discriminator network, we would have to expand its dimensions."
   ]
  },
  {
   "cell_type": "code",
   "execution_count": 23,
   "metadata": {},
   "outputs": [
    {
     "name": "stdout",
     "output_type": "stream",
     "text": [
      "1/1 [==============================] - 0s 79ms/step\n"
     ]
    },
    {
     "data": {
      "text/plain": [
       "array([[0.49513125]], dtype=float32)"
      ]
     },
     "execution_count": 23,
     "metadata": {},
     "output_type": "execute_result"
    }
   ],
   "source": [
    "discriminator.predict(np.expand_dims(img[1], axis=0)) # axis along which the dimensions are expanded"
   ]
  },
  {
   "attachments": {},
   "cell_type": "markdown",
   "metadata": {},
   "source": [
    "## Building The Training Loop\n",
    "\n",
    "This part of building a GAN can be quite difficult. A balance needs to be struck between the learning rates of the generator and the discriminator.\n",
    "\n",
    "We need to ensure that the discriminator doesn't learn too fast, otherwise it would be able to detect a false image every time. Adding random noise to the output of the discriminator can help to slow it down.\n",
    "\n",
    "Because GANs are essentially two different neural networks, we can't simply use the `fit()` method to train them simultaneously."
   ]
  },
  {
   "attachments": {},
   "cell_type": "markdown",
   "metadata": {},
   "source": [
    "### Setup Loss Functions & Optimizers\n",
    "Both the generator and the discriminator will use the same loss function (`binary_crossentropy`) and optimizer (`Adam`).\n",
    "\n",
    "The generator will use the `binary_crossentropy` loss function even though it is producing images. Its output is passed to the discriminator which has a binary output, and the generator's reward is based on this output."
   ]
  },
  {
   "cell_type": "code",
   "execution_count": 24,
   "metadata": {},
   "outputs": [],
   "source": [
    "from tensorflow.keras.losses import BinaryCrossentropy\n",
    "from tensorflow.keras.optimizers import Adam\n",
    "\n",
    "gen_loss = BinaryCrossentropy()\n",
    "disc_loss = BinaryCrossentropy()\n",
    "\n",
    "gen_optimizer = Adam(learning_rate=0.0001)\n",
    "disc_optimizer = Adam(learning_rate=0.00001) # Discriminator must learn slower than the generator"
   ]
  },
  {
   "attachments": {},
   "cell_type": "markdown",
   "metadata": {},
   "source": [
    "### Build Subclassed Model\n",
    "In TensorFlow, a **subclassed** model refers to creating a custom neural network model by subclassing the `tf.keras.Model` class. This lets us define the model architecture and behavior by writing code in a more object-oriented manner, giving us greater flexibility and control over the model's structure and functionality."
   ]
  },
  {
   "cell_type": "code",
   "execution_count": 25,
   "metadata": {},
   "outputs": [],
   "source": [
    "from tensorflow.keras.models import Model\n",
    "from tensorflow import GradientTape, concat, zeros_like, ones_like, random, shape\n",
    "\n",
    "class FashionGAN(Model):\n",
    "    def __init__(self, generator, discriminator, *args, **kwargs):\n",
    "        # Pass arguments and keyword arguments to the base class\n",
    "        super().__init__(*args, **kwargs)\n",
    "\n",
    "        # Attributes for the generator and discriminator\n",
    "        self.generator = generator\n",
    "        self.discriminator = discriminator\n",
    "\n",
    "\n",
    "    def compile(self, gen_loss, disc_loss, gen_optimizer, disc_optimizer, *args, **kwargs):\n",
    "        # Compile with base class\n",
    "        super().compile(*args, **kwargs)\n",
    "\n",
    "        # Attributes for losses and optimizers\n",
    "        self.gen_loss = gen_loss\n",
    "        self.disc_loss = disc_loss\n",
    "        self.gen_optimizer = gen_optimizer\n",
    "        self.disc_optimizer = disc_optimizer\n",
    "\n",
    "\n",
    "    # train_step() is called instead of fit() \n",
    "    def train_step(self, batch):\n",
    "        # Get data\n",
    "        real_images = batch\n",
    "        fake_images = self.generator(np.random.randn(128,128,1), training=False)  # Each batch/sample has 128 images\n",
    "        \n",
    "        # Train the discriminator\n",
    "        with GradientTape() as d_tape:\n",
    "            # Pass the obtained real & fake images to the discriminator\n",
    "            yHat_real = self.discriminator(real_images, training=True) # Setting training=True causes the Dropout layers to activate\n",
    "            yHat_fake = self.discriminator(fake_images, training=True)\n",
    "\n",
    "            # Concatenate the predicted (yHat) values into a single large array\n",
    "            yHat_realfake = concat([yHat_real, yHat_fake], axis=0)\n",
    "\n",
    "            # This is a supervised learning problem, so we need to create labels (the actual values)\n",
    "            y_realfake = concat([zeros_like(yHat_real), ones_like(yHat_fake)], axis=0)\n",
    "\n",
    "            # Add random noise to slow down discriminator training\n",
    "            noise_real = 0.15 * random.uniform(shape(yHat_real))   # Add random values to zeroes in y_realfake\n",
    "            noise_fake = -0.15 * random.uniform(shape(yHat_fake))  # Subtract random values from ones in y_realfake\n",
    "            noise_realfake = concat([noise_real, noise_fake], axis=0)\n",
    "            y_realfake += noise_realfake\n",
    "\n",
    "            # Calculate loss\n",
    "            total_disc_loss = self.disc_loss(y_realfake, yHat_realfake)\n",
    "\n",
    "            # Apply backpropagation:\n",
    "            # 1. Calculate gradient for each of the trainable_variables\n",
    "            disc_gradient = d_tape.gradient(total_disc_loss, self.discriminator.trainable_variables)\n",
    "\n",
    "            # 2. Apply gradients to the optimizer. zip() used to apply gradients with respect to trainable_variables\n",
    "            self.disc_optimizer.apply_gradients(zip(disc_gradient, self.discriminator.trainable_variables))\n",
    "\n",
    "        # Train the generator\n",
    "        with GradientTape() as g_tape:\n",
    "            # Generate new images\n",
    "            gen_images = self.generator(np.random.randn(128,128,1), training=True) # 128 sets of 128 random floats\n",
    "\n",
    "            # Create predicted labels\n",
    "            predicted_labels = self.discriminator(gen_images, training=False)\n",
    "\n",
    "            # The goal is to trick the discriminator into thinking the images are real.\n",
    "            # So we make all the labels 0, corresponding to real images (1 corresponds to fake images).\n",
    "            generators_labels = zeros_like(predicted_labels)\n",
    "\n",
    "\n",
    "            # Calculate loss.\n",
    "            total_gen_loss = self.gen_loss(generators_labels, predicted_labels)\n",
    "\n",
    "            # Apply backpropagation\n",
    "            # 1. Calculate gradient for each of the trainable_variables\n",
    "            gen_gradient = g_tape.gradient(total_gen_loss, self.generator.trainable_variables)\n",
    "\n",
    "            # 2. Apply gradients to the optimizer. zip() used to apply gradients with respect to trainable_variables\n",
    "            self.gen_optimizer.apply_gradients(zip(gen_gradient, self.generator.trainable_variables))\n",
    "\n",
    "        return {\"discriminator_loss\":total_disc_loss,\n",
    "                \"generator_loss\": total_gen_loss}"
   ]
  },
  {
   "cell_type": "code",
   "execution_count": 26,
   "metadata": {},
   "outputs": [],
   "source": [
    "# Create an instance of the subclassed model\n",
    "fashGAN = FashionGAN(generator, discriminator)\n",
    "\n",
    "# Compile the instance\n",
    "fashGAN.compile(gen_loss, disc_loss, gen_optimizer, disc_optimizer)"
   ]
  },
  {
   "attachments": {},
   "cell_type": "markdown",
   "metadata": {},
   "source": [
    "### Build Callback (Optional)"
   ]
  },
  {
   "attachments": {},
   "cell_type": "markdown",
   "metadata": {},
   "source": [
    "The following `ModelMonitor` class allows us to save the images as they are generated."
   ]
  },
  {
   "cell_type": "code",
   "execution_count": 28,
   "metadata": {},
   "outputs": [],
   "source": [
    "import os\n",
    "from tensorflow.keras.preprocessing.image import array_to_img\n",
    "from tensorflow.keras.callbacks import Callback\n",
    "\n",
    "class ModelMonitor(Callback):\n",
    "    def __init__(self, num_img=3, latent_dim=128): # latent_dim is the number of random values passed to the generator\n",
    "        self.num_img = num_img\n",
    "        self.latent_dim = latent_dim\n",
    "\n",
    "    def on_epoch_end(self, epoch, logs=None):\n",
    "        random_latent_vectors = np.random.randn(self.num_img, self.latent_dim, 1)\n",
    "        generated_images = self.model.generator(random_latent_vectors)\n",
    "        generated_images *= 255\n",
    "        generated_images.numpy()\n",
    "        for i in range(self.num_img):\n",
    "            img = array_to_img(generated_images[i])\n",
    "            img.save(os.path.join('images', f'generated_img_{epoch}_{i}.png'))"
   ]
  },
  {
   "attachments": {},
   "cell_type": "markdown",
   "metadata": {},
   "source": [
    "### Train Subclassed Model"
   ]
  },
  {
   "cell_type": "code",
   "execution_count": 29,
   "metadata": {},
   "outputs": [
    {
     "name": "stdout",
     "output_type": "stream",
     "text": [
      "Epoch 1/200\n",
      "469/469 [==============================] - 59s 120ms/step - discriminator_loss: 0.4179 - generator_loss: 1.4465\n",
      "Epoch 2/200\n",
      "469/469 [==============================] - 54s 116ms/step - discriminator_loss: 0.6885 - generator_loss: 0.6742\n",
      "Epoch 3/200\n",
      "469/469 [==============================] - 54s 116ms/step - discriminator_loss: 0.5076 - generator_loss: 0.2159\n",
      "Epoch 4/200\n",
      "469/469 [==============================] - 54s 116ms/step - discriminator_loss: 0.3568 - generator_loss: 0.0060\n",
      "Epoch 5/200\n",
      "469/469 [==============================] - 54s 116ms/step - discriminator_loss: 0.3310 - generator_loss: 0.0077\n",
      "Epoch 6/200\n",
      "469/469 [==============================] - 54s 116ms/step - discriminator_loss: 0.3188 - generator_loss: 0.0096\n",
      "Epoch 7/200\n",
      "469/469 [==============================] - 54s 116ms/step - discriminator_loss: 0.3078 - generator_loss: 0.0119\n",
      "Epoch 8/200\n",
      "469/469 [==============================] - 54s 116ms/step - discriminator_loss: 0.3029 - generator_loss: 0.0137\n",
      "Epoch 9/200\n",
      "469/469 [==============================] - 55s 117ms/step - discriminator_loss: 0.2969 - generator_loss: 0.0158\n",
      "Epoch 10/200\n",
      "469/469 [==============================] - 55s 117ms/step - discriminator_loss: 0.2939 - generator_loss: 0.0180\n",
      "Epoch 11/200\n",
      "469/469 [==============================] - 55s 117ms/step - discriminator_loss: 0.2894 - generator_loss: 0.0204\n",
      "Epoch 12/200\n",
      "469/469 [==============================] - 55s 117ms/step - discriminator_loss: 0.2861 - generator_loss: 0.0221\n",
      "Epoch 13/200\n",
      "469/469 [==============================] - 55s 117ms/step - discriminator_loss: 0.2848 - generator_loss: 0.0230\n",
      "Epoch 14/200\n",
      "469/469 [==============================] - 55s 117ms/step - discriminator_loss: 0.2849 - generator_loss: 0.0222\n",
      "Epoch 15/200\n",
      "469/469 [==============================] - 55s 117ms/step - discriminator_loss: 0.2873 - generator_loss: 0.0203\n",
      "Epoch 16/200\n",
      "469/469 [==============================] - 55s 117ms/step - discriminator_loss: 0.2883 - generator_loss: 0.0195\n",
      "Epoch 17/200\n",
      "469/469 [==============================] - 55s 117ms/step - discriminator_loss: 0.2923 - generator_loss: 0.0196\n",
      "Epoch 18/200\n",
      "469/469 [==============================] - 55s 117ms/step - discriminator_loss: 0.3044 - generator_loss: 0.0225\n",
      "Epoch 19/200\n",
      "469/469 [==============================] - 55s 116ms/step - discriminator_loss: 0.4244 - generator_loss: 1.7947\n",
      "Epoch 20/200\n",
      "469/469 [==============================] - 55s 116ms/step - discriminator_loss: 0.2707 - generator_loss: 2.7004\n",
      "Epoch 21/200\n",
      "469/469 [==============================] - 55s 116ms/step - discriminator_loss: 0.2786 - generator_loss: 1.4057\n",
      "Epoch 22/200\n",
      "469/469 [==============================] - 55s 116ms/step - discriminator_loss: 0.2707 - generator_loss: 0.1353\n",
      "Epoch 23/200\n",
      "469/469 [==============================] - 54s 116ms/step - discriminator_loss: 0.2697 - generator_loss: 0.1297\n",
      "Epoch 24/200\n",
      "469/469 [==============================] - 54s 116ms/step - discriminator_loss: 0.2693 - generator_loss: 0.1377\n",
      "Epoch 25/200\n",
      "469/469 [==============================] - 54s 116ms/step - discriminator_loss: 0.2688 - generator_loss: 0.1533\n",
      "Epoch 26/200\n",
      "469/469 [==============================] - 54s 116ms/step - discriminator_loss: 0.2680 - generator_loss: 0.1839\n",
      "Epoch 27/200\n",
      "469/469 [==============================] - 54s 116ms/step - discriminator_loss: 0.2680 - generator_loss: 0.2095\n",
      "Epoch 28/200\n",
      "469/469 [==============================] - 54s 116ms/step - discriminator_loss: 0.2683 - generator_loss: 0.2307\n",
      "Epoch 29/200\n",
      "469/469 [==============================] - 54s 116ms/step - discriminator_loss: 0.2682 - generator_loss: 0.2516\n",
      "Epoch 30/200\n",
      "469/469 [==============================] - 54s 116ms/step - discriminator_loss: 0.2679 - generator_loss: 0.2653\n",
      "Epoch 31/200\n",
      "469/469 [==============================] - 54s 116ms/step - discriminator_loss: 0.3089 - generator_loss: 0.3320\n",
      "Epoch 32/200\n",
      "469/469 [==============================] - 54s 116ms/step - discriminator_loss: 0.2823 - generator_loss: 0.0847\n",
      "Epoch 33/200\n",
      "469/469 [==============================] - 54s 116ms/step - discriminator_loss: 0.2797 - generator_loss: 0.0860\n",
      "Epoch 34/200\n",
      "469/469 [==============================] - 54s 116ms/step - discriminator_loss: 0.2787 - generator_loss: 0.0789\n",
      "Epoch 35/200\n",
      "469/469 [==============================] - 54s 116ms/step - discriminator_loss: 0.2799 - generator_loss: 0.0605\n",
      "Epoch 36/200\n",
      "469/469 [==============================] - 54s 116ms/step - discriminator_loss: 0.2797 - generator_loss: 0.0452\n",
      "Epoch 37/200\n",
      "469/469 [==============================] - 54s 116ms/step - discriminator_loss: 0.2785 - generator_loss: 0.0404\n",
      "Epoch 38/200\n",
      "469/469 [==============================] - 54s 116ms/step - discriminator_loss: 0.2782 - generator_loss: 0.0377\n",
      "Epoch 39/200\n",
      "469/469 [==============================] - 54s 116ms/step - discriminator_loss: 0.2782 - generator_loss: 0.0350\n",
      "Epoch 40/200\n",
      "469/469 [==============================] - 54s 116ms/step - discriminator_loss: 0.3129 - generator_loss: 0.0359\n",
      "Epoch 41/200\n",
      "469/469 [==============================] - 54s 116ms/step - discriminator_loss: 0.5333 - generator_loss: 0.2489\n",
      "Epoch 42/200\n",
      "469/469 [==============================] - 55s 117ms/step - discriminator_loss: 0.6533 - generator_loss: 0.4269\n",
      "Epoch 43/200\n",
      "469/469 [==============================] - 55s 118ms/step - discriminator_loss: 0.6603 - generator_loss: 0.4666\n",
      "Epoch 44/200\n",
      "469/469 [==============================] - 55s 117ms/step - discriminator_loss: 0.6759 - generator_loss: 0.5063\n",
      "Epoch 45/200\n",
      "469/469 [==============================] - 55s 116ms/step - discriminator_loss: 0.4694 - generator_loss: 0.2588\n",
      "Epoch 46/200\n",
      "469/469 [==============================] - 55s 117ms/step - discriminator_loss: 0.6235 - generator_loss: 0.3553\n",
      "Epoch 47/200\n",
      "469/469 [==============================] - 55s 117ms/step - discriminator_loss: 0.5833 - generator_loss: 0.3568\n",
      "Epoch 48/200\n",
      "469/469 [==============================] - 55s 117ms/step - discriminator_loss: 0.6673 - generator_loss: 0.4163\n",
      "Epoch 49/200\n",
      "469/469 [==============================] - 55s 117ms/step - discriminator_loss: 0.6250 - generator_loss: 0.3761\n",
      "Epoch 50/200\n",
      "469/469 [==============================] - 55s 117ms/step - discriminator_loss: 0.5136 - generator_loss: 0.2910\n",
      "Epoch 51/200\n",
      "469/469 [==============================] - 55s 117ms/step - discriminator_loss: 0.2909 - generator_loss: 0.0805\n",
      "Epoch 52/200\n",
      "469/469 [==============================] - 55s 117ms/step - discriminator_loss: 0.5082 - generator_loss: 0.2530\n",
      "Epoch 53/200\n",
      "469/469 [==============================] - 55s 117ms/step - discriminator_loss: 0.5441 - generator_loss: 0.2505\n",
      "Epoch 54/200\n",
      "469/469 [==============================] - 55s 116ms/step - discriminator_loss: 0.5981 - generator_loss: 0.3171\n",
      "Epoch 55/200\n",
      "469/469 [==============================] - 55s 117ms/step - discriminator_loss: 0.5158 - generator_loss: 0.2620\n",
      "Epoch 56/200\n",
      "469/469 [==============================] - 55s 116ms/step - discriminator_loss: 0.3045 - generator_loss: 0.1265\n",
      "Epoch 57/200\n",
      "469/469 [==============================] - 55s 117ms/step - discriminator_loss: 0.4541 - generator_loss: 0.2037\n",
      "Epoch 58/200\n",
      "469/469 [==============================] - 55s 117ms/step - discriminator_loss: 0.4962 - generator_loss: 0.2181\n",
      "Epoch 59/200\n",
      "469/469 [==============================] - 55s 117ms/step - discriminator_loss: 0.5651 - generator_loss: 0.2614\n",
      "Epoch 60/200\n",
      "469/469 [==============================] - 55s 117ms/step - discriminator_loss: 0.5248 - generator_loss: 0.2743\n",
      "Epoch 61/200\n",
      "469/469 [==============================] - 54s 115ms/step - discriminator_loss: 0.2867 - generator_loss: 0.1467\n",
      "Epoch 62/200\n",
      "469/469 [==============================] - 51s 109ms/step - discriminator_loss: 0.3814 - generator_loss: 0.1743\n",
      "Epoch 63/200\n",
      "469/469 [==============================] - 52s 110ms/step - discriminator_loss: 0.4743 - generator_loss: 0.2327\n",
      "Epoch 64/200\n",
      "469/469 [==============================] - 54s 115ms/step - discriminator_loss: 0.4869 - generator_loss: 0.2300\n",
      "Epoch 65/200\n",
      "469/469 [==============================] - 52s 111ms/step - discriminator_loss: 0.4997 - generator_loss: 0.2837\n",
      "Epoch 66/200\n",
      "469/469 [==============================] - 51s 109ms/step - discriminator_loss: 0.5099 - generator_loss: 0.2092\n",
      "Epoch 67/200\n",
      "469/469 [==============================] - 51s 109ms/step - discriminator_loss: 0.2955 - generator_loss: 0.2363\n",
      "Epoch 68/200\n",
      "469/469 [==============================] - 51s 109ms/step - discriminator_loss: 0.4042 - generator_loss: 0.2204\n",
      "Epoch 69/200\n",
      "469/469 [==============================] - 51s 109ms/step - discriminator_loss: 0.5215 - generator_loss: 0.2537\n",
      "Epoch 70/200\n",
      "469/469 [==============================] - 51s 109ms/step - discriminator_loss: 0.4520 - generator_loss: 0.2975\n",
      "Epoch 71/200\n",
      "469/469 [==============================] - 51s 109ms/step - discriminator_loss: 0.4628 - generator_loss: 0.2462\n",
      "Epoch 72/200\n",
      "469/469 [==============================] - 51s 109ms/step - discriminator_loss: 0.3881 - generator_loss: 0.2307\n",
      "Epoch 73/200\n",
      "469/469 [==============================] - 51s 109ms/step - discriminator_loss: 0.3253 - generator_loss: 0.0915\n",
      "Epoch 74/200\n",
      "469/469 [==============================] - 51s 109ms/step - discriminator_loss: 0.3482 - generator_loss: 0.0845\n",
      "Epoch 75/200\n",
      "469/469 [==============================] - 51s 109ms/step - discriminator_loss: 0.3360 - generator_loss: 0.0889\n",
      "Epoch 76/200\n",
      "469/469 [==============================] - 51s 109ms/step - discriminator_loss: 0.3148 - generator_loss: 0.1427\n",
      "Epoch 77/200\n",
      "469/469 [==============================] - 51s 109ms/step - discriminator_loss: 0.3845 - generator_loss: 0.1440\n",
      "Epoch 78/200\n",
      "469/469 [==============================] - 51s 109ms/step - discriminator_loss: 0.3943 - generator_loss: 0.2176\n",
      "Epoch 79/200\n",
      "469/469 [==============================] - 51s 109ms/step - discriminator_loss: 0.4270 - generator_loss: 0.1063\n",
      "Epoch 80/200\n",
      "469/469 [==============================] - 51s 109ms/step - discriminator_loss: 0.3629 - generator_loss: 0.0954\n",
      "Epoch 81/200\n",
      "469/469 [==============================] - 51s 109ms/step - discriminator_loss: 0.3628 - generator_loss: 0.0889\n",
      "Epoch 82/200\n",
      "469/469 [==============================] - 51s 109ms/step - discriminator_loss: 0.3297 - generator_loss: 0.1328\n",
      "Epoch 83/200\n",
      "469/469 [==============================] - 51s 108ms/step - discriminator_loss: 0.3292 - generator_loss: 0.0733\n",
      "Epoch 84/200\n",
      "469/469 [==============================] - 51s 108ms/step - discriminator_loss: 0.3381 - generator_loss: 0.0383\n",
      "Epoch 85/200\n",
      "469/469 [==============================] - 51s 108ms/step - discriminator_loss: 0.3070 - generator_loss: 0.1293\n",
      "Epoch 86/200\n",
      "469/469 [==============================] - 51s 108ms/step - discriminator_loss: 0.2812 - generator_loss: 0.1983\n",
      "Epoch 87/200\n",
      "469/469 [==============================] - 51s 108ms/step - discriminator_loss: 0.2770 - generator_loss: 0.2948\n",
      "Epoch 88/200\n",
      "469/469 [==============================] - 51s 108ms/step - discriminator_loss: 0.2814 - generator_loss: 0.2929\n",
      "Epoch 89/200\n",
      "469/469 [==============================] - 51s 108ms/step - discriminator_loss: 0.3199 - generator_loss: 0.0571\n",
      "Epoch 90/200\n",
      "469/469 [==============================] - 51s 108ms/step - discriminator_loss: 0.3219 - generator_loss: 0.1298\n",
      "Epoch 91/200\n",
      "469/469 [==============================] - 51s 108ms/step - discriminator_loss: 0.2779 - generator_loss: 0.1960\n",
      "Epoch 92/200\n",
      "469/469 [==============================] - 51s 108ms/step - discriminator_loss: 0.2778 - generator_loss: 0.1806\n",
      "Epoch 93/200\n",
      "469/469 [==============================] - 51s 108ms/step - discriminator_loss: 0.2757 - generator_loss: 0.2080\n",
      "Epoch 94/200\n",
      "469/469 [==============================] - 51s 108ms/step - discriminator_loss: 0.2748 - generator_loss: 0.2423\n",
      "Epoch 95/200\n",
      "469/469 [==============================] - 51s 108ms/step - discriminator_loss: 0.2953 - generator_loss: 0.2768\n",
      "Epoch 96/200\n",
      "469/469 [==============================] - 51s 108ms/step - discriminator_loss: 0.3800 - generator_loss: 0.2109\n",
      "Epoch 97/200\n",
      "469/469 [==============================] - 51s 108ms/step - discriminator_loss: 0.3604 - generator_loss: 0.1234\n",
      "Epoch 98/200\n",
      "469/469 [==============================] - 51s 108ms/step - discriminator_loss: 0.3271 - generator_loss: 0.0945\n",
      "Epoch 99/200\n",
      "469/469 [==============================] - 51s 108ms/step - discriminator_loss: 0.3429 - generator_loss: 0.2456\n",
      "Epoch 100/200\n",
      "469/469 [==============================] - 51s 108ms/step - discriminator_loss: 0.3271 - generator_loss: 0.0598\n",
      "Epoch 101/200\n",
      "469/469 [==============================] - 51s 109ms/step - discriminator_loss: 0.3264 - generator_loss: 0.0417\n",
      "Epoch 102/200\n",
      "469/469 [==============================] - 51s 108ms/step - discriminator_loss: 0.3132 - generator_loss: 0.2954\n",
      "Epoch 103/200\n",
      "469/469 [==============================] - 51s 108ms/step - discriminator_loss: 0.2797 - generator_loss: 0.2461\n",
      "Epoch 104/200\n",
      "469/469 [==============================] - 51s 108ms/step - discriminator_loss: 0.2777 - generator_loss: 0.2586\n",
      "Epoch 105/200\n",
      "469/469 [==============================] - 51s 108ms/step - discriminator_loss: 0.2763 - generator_loss: 0.2660\n",
      "Epoch 106/200\n",
      "469/469 [==============================] - 51s 108ms/step - discriminator_loss: 0.2744 - generator_loss: 0.2695\n",
      "Epoch 107/200\n",
      "469/469 [==============================] - 51s 108ms/step - discriminator_loss: 0.3006 - generator_loss: 0.2823\n",
      "Epoch 108/200\n",
      "469/469 [==============================] - 51s 108ms/step - discriminator_loss: 0.3279 - generator_loss: 0.3937\n",
      "Epoch 109/200\n",
      "469/469 [==============================] - 51s 108ms/step - discriminator_loss: 0.3634 - generator_loss: 0.1700\n",
      "Epoch 110/200\n",
      "469/469 [==============================] - 51s 108ms/step - discriminator_loss: 0.3587 - generator_loss: 0.1137\n",
      "Epoch 111/200\n",
      "469/469 [==============================] - 51s 108ms/step - discriminator_loss: 0.3585 - generator_loss: 0.1816\n",
      "Epoch 112/200\n",
      "469/469 [==============================] - 51s 108ms/step - discriminator_loss: 0.3165 - generator_loss: 0.0900\n",
      "Epoch 113/200\n",
      "469/469 [==============================] - 51s 108ms/step - discriminator_loss: 0.3026 - generator_loss: 0.5597\n",
      "Epoch 114/200\n",
      "469/469 [==============================] - 51s 108ms/step - discriminator_loss: 0.3271 - generator_loss: 0.0730\n",
      "Epoch 115/200\n",
      "469/469 [==============================] - 51s 108ms/step - discriminator_loss: 0.3316 - generator_loss: 0.1150\n",
      "Epoch 116/200\n",
      "469/469 [==============================] - 51s 108ms/step - discriminator_loss: 0.3206 - generator_loss: 0.0910\n",
      "Epoch 117/200\n",
      "469/469 [==============================] - 53s 113ms/step - discriminator_loss: 0.3114 - generator_loss: 0.1105\n",
      "Epoch 118/200\n",
      "469/469 [==============================] - 55s 117ms/step - discriminator_loss: 0.3425 - generator_loss: 0.1286\n",
      "Epoch 119/200\n",
      "469/469 [==============================] - 55s 117ms/step - discriminator_loss: 0.3182 - generator_loss: 0.0681\n",
      "Epoch 120/200\n",
      "469/469 [==============================] - 56s 120ms/step - discriminator_loss: 0.3441 - generator_loss: 0.1598\n",
      "Epoch 121/200\n",
      "469/469 [==============================] - 57s 122ms/step - discriminator_loss: 0.2912 - generator_loss: 0.0683\n",
      "Epoch 122/200\n",
      "469/469 [==============================] - 57s 122ms/step - discriminator_loss: 0.2997 - generator_loss: 0.0363\n",
      "Epoch 123/200\n",
      "469/469 [==============================] - 58s 123ms/step - discriminator_loss: 0.3100 - generator_loss: 0.1766\n",
      "Epoch 124/200\n",
      "469/469 [==============================] - 58s 123ms/step - discriminator_loss: 0.3106 - generator_loss: 0.1047\n",
      "Epoch 125/200\n",
      "469/469 [==============================] - 57s 122ms/step - discriminator_loss: 0.3137 - generator_loss: 0.0347\n",
      "Epoch 126/200\n",
      "469/469 [==============================] - 58s 123ms/step - discriminator_loss: 0.3034 - generator_loss: 0.1107\n",
      "Epoch 127/200\n",
      "469/469 [==============================] - 57s 122ms/step - discriminator_loss: 0.2810 - generator_loss: 0.2339\n",
      "Epoch 128/200\n",
      "469/469 [==============================] - 58s 124ms/step - discriminator_loss: 0.2783 - generator_loss: 0.2401\n",
      "Epoch 129/200\n",
      "469/469 [==============================] - 58s 124ms/step - discriminator_loss: 0.2972 - generator_loss: 0.1251\n",
      "Epoch 130/200\n",
      "469/469 [==============================] - 58s 123ms/step - discriminator_loss: 0.3234 - generator_loss: 0.1131\n",
      "Epoch 131/200\n",
      "469/469 [==============================] - 58s 124ms/step - discriminator_loss: 0.3034 - generator_loss: 0.0455\n",
      "Epoch 132/200\n",
      "469/469 [==============================] - 58s 124ms/step - discriminator_loss: 0.2988 - generator_loss: 0.0204\n",
      "Epoch 133/200\n",
      "469/469 [==============================] - 57s 121ms/step - discriminator_loss: 0.3180 - generator_loss: 0.0371\n",
      "Epoch 134/200\n",
      "469/469 [==============================] - 55s 118ms/step - discriminator_loss: 0.2948 - generator_loss: 0.0178\n",
      "Epoch 135/200\n",
      "469/469 [==============================] - 55s 117ms/step - discriminator_loss: 0.2875 - generator_loss: 0.0164\n",
      "Epoch 136/200\n",
      "469/469 [==============================] - 55s 117ms/step - discriminator_loss: 0.2830 - generator_loss: 0.0120\n",
      "Epoch 137/200\n",
      "469/469 [==============================] - 55s 118ms/step - discriminator_loss: 0.2803 - generator_loss: 0.0092\n",
      "Epoch 138/200\n",
      "469/469 [==============================] - 55s 117ms/step - discriminator_loss: 0.2791 - generator_loss: 0.0098\n",
      "Epoch 139/200\n",
      "469/469 [==============================] - 55s 116ms/step - discriminator_loss: 0.2912 - generator_loss: 0.0129\n",
      "Epoch 140/200\n",
      "469/469 [==============================] - 54s 116ms/step - discriminator_loss: 0.3038 - generator_loss: 0.2693\n",
      "Epoch 141/200\n",
      "469/469 [==============================] - 55s 118ms/step - discriminator_loss: 0.3122 - generator_loss: 0.0463\n",
      "Epoch 142/200\n",
      "469/469 [==============================] - 52s 110ms/step - discriminator_loss: 0.3188 - generator_loss: 0.0460\n",
      "Epoch 143/200\n",
      "469/469 [==============================] - 52s 110ms/step - discriminator_loss: 0.3048 - generator_loss: 0.0361\n",
      "Epoch 144/200\n",
      "469/469 [==============================] - 52s 112ms/step - discriminator_loss: 0.3029 - generator_loss: 0.0803\n",
      "Epoch 145/200\n",
      "469/469 [==============================] - 54s 114ms/step - discriminator_loss: 0.2856 - generator_loss: 0.0646\n",
      "Epoch 146/200\n",
      "469/469 [==============================] - 55s 116ms/step - discriminator_loss: 0.3080 - generator_loss: 0.0485\n",
      "Epoch 147/200\n",
      "469/469 [==============================] - 55s 117ms/step - discriminator_loss: 0.2954 - generator_loss: 0.0165\n",
      "Epoch 148/200\n",
      "469/469 [==============================] - 55s 117ms/step - discriminator_loss: 0.2998 - generator_loss: 0.1573\n",
      "Epoch 149/200\n",
      "469/469 [==============================] - 55s 117ms/step - discriminator_loss: 0.2972 - generator_loss: 0.0707\n",
      "Epoch 150/200\n",
      "469/469 [==============================] - 55s 117ms/step - discriminator_loss: 0.2975 - generator_loss: 0.0401\n",
      "Epoch 151/200\n",
      "469/469 [==============================] - 55s 117ms/step - discriminator_loss: 0.2923 - generator_loss: 0.0194\n",
      "Epoch 152/200\n",
      "469/469 [==============================] - 55s 117ms/step - discriminator_loss: 0.2887 - generator_loss: 0.0141\n",
      "Epoch 153/200\n",
      "469/469 [==============================] - 55s 117ms/step - discriminator_loss: 0.2843 - generator_loss: 0.0092\n",
      "Epoch 154/200\n",
      "469/469 [==============================] - 55s 117ms/step - discriminator_loss: 0.2965 - generator_loss: 0.2801\n",
      "Epoch 155/200\n",
      "469/469 [==============================] - 55s 117ms/step - discriminator_loss: 0.3241 - generator_loss: 0.1217\n",
      "Epoch 156/200\n",
      "469/469 [==============================] - 55s 117ms/step - discriminator_loss: 0.3220 - generator_loss: 0.0507\n",
      "Epoch 157/200\n",
      "469/469 [==============================] - 55s 116ms/step - discriminator_loss: 0.3351 - generator_loss: 0.2150\n",
      "Epoch 158/200\n",
      "469/469 [==============================] - 55s 117ms/step - discriminator_loss: 0.3332 - generator_loss: 0.0900\n",
      "Epoch 159/200\n",
      "469/469 [==============================] - 55s 117ms/step - discriminator_loss: 0.3240 - generator_loss: 0.0841\n",
      "Epoch 160/200\n",
      "469/469 [==============================] - 55s 117ms/step - discriminator_loss: 0.2994 - generator_loss: 0.5007\n",
      "Epoch 161/200\n",
      "469/469 [==============================] - 54s 116ms/step - discriminator_loss: 0.2890 - generator_loss: 0.6236\n",
      "Epoch 162/200\n",
      "469/469 [==============================] - 52s 111ms/step - discriminator_loss: 0.3073 - generator_loss: 0.0351\n",
      "Epoch 163/200\n",
      "469/469 [==============================] - 53s 113ms/step - discriminator_loss: 0.2940 - generator_loss: 0.0146\n",
      "Epoch 164/200\n",
      "469/469 [==============================] - 55s 117ms/step - discriminator_loss: 0.2910 - generator_loss: 0.0081\n",
      "Epoch 165/200\n",
      "469/469 [==============================] - 55s 117ms/step - discriminator_loss: 0.2868 - generator_loss: 0.0055\n",
      "Epoch 166/200\n",
      "469/469 [==============================] - 55s 116ms/step - discriminator_loss: 0.2846 - generator_loss: 0.0051\n",
      "Epoch 167/200\n",
      "469/469 [==============================] - 55s 117ms/step - discriminator_loss: 0.2849 - generator_loss: 0.0047\n",
      "Epoch 168/200\n",
      "469/469 [==============================] - 55s 117ms/step - discriminator_loss: 0.2840 - generator_loss: 0.0043\n",
      "Epoch 169/200\n",
      "469/469 [==============================] - 55s 117ms/step - discriminator_loss: 0.2823 - generator_loss: 0.0043\n",
      "Epoch 170/200\n",
      "469/469 [==============================] - 55s 116ms/step - discriminator_loss: 0.2825 - generator_loss: 0.0039\n",
      "Epoch 171/200\n",
      "469/469 [==============================] - 55s 117ms/step - discriminator_loss: 0.2808 - generator_loss: 0.0038\n",
      "Epoch 172/200\n",
      "469/469 [==============================] - 55s 117ms/step - discriminator_loss: 0.2793 - generator_loss: 0.0043\n",
      "Epoch 173/200\n",
      "469/469 [==============================] - 55s 116ms/step - discriminator_loss: 0.2862 - generator_loss: 0.1049\n",
      "Epoch 174/200\n",
      "469/469 [==============================] - 55s 117ms/step - discriminator_loss: 0.2826 - generator_loss: 0.3210\n",
      "Epoch 175/200\n",
      "469/469 [==============================] - 55s 117ms/step - discriminator_loss: 0.2869 - generator_loss: 0.1302\n",
      "Epoch 176/200\n",
      "469/469 [==============================] - 55s 117ms/step - discriminator_loss: 0.2888 - generator_loss: 0.0192\n",
      "Epoch 177/200\n",
      "469/469 [==============================] - 55s 117ms/step - discriminator_loss: 0.2838 - generator_loss: 0.0110\n",
      "Epoch 178/200\n",
      "469/469 [==============================] - 56s 119ms/step - discriminator_loss: 0.2812 - generator_loss: 0.0081\n",
      "Epoch 179/200\n",
      "469/469 [==============================] - 55s 116ms/step - discriminator_loss: 0.2794 - generator_loss: 0.0069\n",
      "Epoch 180/200\n",
      "469/469 [==============================] - 55s 116ms/step - discriminator_loss: 0.2778 - generator_loss: 0.0061\n",
      "Epoch 181/200\n",
      "469/469 [==============================] - 55s 117ms/step - discriminator_loss: 0.2784 - generator_loss: 0.0062\n",
      "Epoch 182/200\n",
      "469/469 [==============================] - 55s 117ms/step - discriminator_loss: 0.2777 - generator_loss: 0.0067\n",
      "Epoch 183/200\n",
      "469/469 [==============================] - 55s 116ms/step - discriminator_loss: 0.2789 - generator_loss: 0.0074\n",
      "Epoch 184/200\n",
      "469/469 [==============================] - 55s 116ms/step - discriminator_loss: 0.2781 - generator_loss: 0.0170\n",
      "Epoch 185/200\n",
      "469/469 [==============================] - 55s 117ms/step - discriminator_loss: 0.3712 - generator_loss: 0.3581\n",
      "Epoch 186/200\n",
      "469/469 [==============================] - 55s 117ms/step - discriminator_loss: 0.3345 - generator_loss: 0.1146\n",
      "Epoch 187/200\n",
      "469/469 [==============================] - 55s 117ms/step - discriminator_loss: 0.3439 - generator_loss: 0.1294\n",
      "Epoch 188/200\n",
      "469/469 [==============================] - 55s 116ms/step - discriminator_loss: 0.3183 - generator_loss: 0.6032\n",
      "Epoch 189/200\n",
      "469/469 [==============================] - 55s 116ms/step - discriminator_loss: 0.3052 - generator_loss: 0.1365\n",
      "Epoch 190/200\n",
      "469/469 [==============================] - 55s 116ms/step - discriminator_loss: 0.3148 - generator_loss: 0.0494\n",
      "Epoch 191/200\n",
      "469/469 [==============================] - 55s 117ms/step - discriminator_loss: 0.3051 - generator_loss: 0.0485\n",
      "Epoch 192/200\n",
      "469/469 [==============================] - 55s 117ms/step - discriminator_loss: 0.3112 - generator_loss: 0.3072\n",
      "Epoch 193/200\n",
      "469/469 [==============================] - 54s 116ms/step - discriminator_loss: 0.2986 - generator_loss: 0.0249\n",
      "Epoch 194/200\n",
      "469/469 [==============================] - 54s 116ms/step - discriminator_loss: 0.2931 - generator_loss: 0.0129\n",
      "Epoch 195/200\n",
      "469/469 [==============================] - 55s 117ms/step - discriminator_loss: 0.2899 - generator_loss: 0.0157\n",
      "Epoch 196/200\n",
      "469/469 [==============================] - 55s 117ms/step - discriminator_loss: 0.2848 - generator_loss: 0.0187\n",
      "Epoch 197/200\n",
      "469/469 [==============================] - 55s 116ms/step - discriminator_loss: 0.2915 - generator_loss: 0.6208\n",
      "Epoch 198/200\n",
      "469/469 [==============================] - 55s 117ms/step - discriminator_loss: 0.3384 - generator_loss: 0.1151\n",
      "Epoch 199/200\n",
      "469/469 [==============================] - 55s 117ms/step - discriminator_loss: 0.3279 - generator_loss: 0.0594\n",
      "Epoch 200/200\n",
      "469/469 [==============================] - 55s 116ms/step - discriminator_loss: 0.3048 - generator_loss: 0.3152\n"
     ]
    }
   ],
   "source": [
    "# Recommended epochs=2000\n",
    "history = fashGAN.fit(ds, epochs=200, callbacks=[ModelMonitor()])  # callbacks optional"
   ]
  },
  {
   "attachments": {},
   "cell_type": "markdown",
   "metadata": {},
   "source": [
    "## Reviewing Training Performance"
   ]
  },
  {
   "cell_type": "code",
   "execution_count": 34,
   "metadata": {},
   "outputs": [
    {
     "data": {
      "image/png": "[encoded data removed]",
      "text/plain": [
       "<Figure size 640x480 with 1 Axes>"
      ]
     },
     "metadata": {},
     "output_type": "display_data"
    }
   ],
   "source": [
    "plt.suptitle(\"Loss\")\n",
    "plt.plot(history.history[\"discriminator_loss\"], label=\"discriminator_loss\")\n",
    "plt.plot(history.history[\"generator_loss\"], label=\"generator_loss\")\n",
    "plt.legend()\n",
    "plt.show()"
   ]
  },
  {
   "attachments": {},
   "cell_type": "markdown",
   "metadata": {},
   "source": [
    "Save the generator and discriminator models."
   ]
  },
  {
   "cell_type": "code",
   "execution_count": 39,
   "metadata": {},
   "outputs": [
    {
     "name": "stderr",
     "output_type": "stream",
     "text": [
      "WARNING:tensorflow:Compiled the loaded model, but the compiled metrics have yet to be built. `model.compile_metrics` will be empty until you train or evaluate the model.\n",
      "WARNING:tensorflow:Compiled the loaded model, but the compiled metrics have yet to be built. `model.compile_metrics` will be empty until you train or evaluate the model.\n"
     ]
    }
   ],
   "source": [
    "generator.save(\"generator.h5\")\n",
    "discriminator.save(\"discriminator.h5\")"
   ]
  },
  {
   "attachments": {},
   "cell_type": "markdown",
   "metadata": {},
   "source": [
    "## Testing Out The Generator"
   ]
  },
  {
   "cell_type": "code",
   "execution_count": 38,
   "metadata": {},
   "outputs": [
    {
     "name": "stdout",
     "output_type": "stream",
     "text": [
      "1/1 [==============================] - 0s 18ms/step\n"
     ]
    },
    {
     "data": {
      "image/png": "[encoded data removed]",
      "text/plain": [
       "<Figure size 1500x1500 with 16 Axes>"
      ]
     },
     "metadata": {},
     "output_type": "display_data"
    }
   ],
   "source": [
    "test_images = generator.predict(np.random.randn(16, 128, 1))\n",
    "\n",
    "(figure, subplots) = plt.subplots(ncols=4, nrows=4, figsize=(15,15))\n",
    "for i in range(4):\n",
    "    for j in range(4):\n",
    "        subplots[i][j].imshow(test_images[(i+1) * (j+1) - 1])"
   ]
  }
 ],
 "metadata": {
  "kernelspec": {
   "display_name": "imageclassification",
   "language": "python",
   "name": "imageclassification"
  },
  "language_info": {
   "codemirror_mode": {
    "name": "ipython",
    "version": 3
   },
   "file_extension": ".py",
   "mimetype": "text/x-python",
   "name": "python",
   "nbconvert_exporter": "python",
   "pygments_lexer": "ipython3",
   "version": "3.10.9"
  },
  "orig_nbformat": 4,
  "vscode": {
   "interpreter": {
    "hash": "ac93dc346b89e373903716d9c589ff7eac88bda016b0ec173ead7ddcbe69a87b"
   }
  }
 },
 "nbformat": 4,
 "nbformat_minor": 2
}
